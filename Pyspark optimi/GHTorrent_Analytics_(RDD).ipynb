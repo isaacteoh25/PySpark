{
  "cells": [
    {
      "cell_type": "markdown",
      "metadata": {
        "id": "9nrTNalW81Uo"
      },
      "source": [
        "# **GHTorrent Data Analytics with PySpark RDD: An unstructured case study**\n",
        "\n",
        "### Udemy Course: Best Hands-on Big Data Practices and Use Cases using PySpark\n",
        "\n",
        "### Author: Amin Karami (PhD, FHEA)\n",
        "\n",
        "##### source 1: https://ghtorrent.org\n",
        "##### source 2: https://ghtorrent.org/downloads.html\n"
      ]
    },
    {
      "cell_type": "code",
      "execution_count": null,
      "metadata": {
        "id": "ghTJybh281Ur"
      },
      "outputs": [],
      "source": [
        "########## ONLY in Colab ##########\n",
        "!pip3 install pyspark\n",
        "########## ONLY in Colab ##########"
      ]
    },
    {
      "cell_type": "code",
      "execution_count": null,
      "metadata": {
        "id": "Lv29DcwT81Ut"
      },
      "outputs": [],
      "source": [
        "########## ONLY in Ubuntu Machine ##########\n",
        "# Load Spark engine\n",
        "!pip3 install -q findspark\n",
        "import findspark\n",
        "findspark.init()\n",
        "########## ONLY in Ubuntu Machine ##########"
      ]
    },
    {
      "cell_type": "code",
      "execution_count": null,
      "metadata": {
        "id": "06d5GLeN81Ut"
      },
      "outputs": [],
      "source": [
        "from pyspark import SparkContext, SparkConf\n",
        "\n",
        "# Initializing Spark\n",
        "conf = SparkConf().setAppName(\"GHTorrent_PySpark\").setMaster(\"local[*]\")\n",
        "sc = SparkContext(conf=conf)\n",
        "print(sc)\n",
        "print(\"Ready to go!\")"
      ]
    },
    {
      "cell_type": "code",
      "source": [
        "########## ONLY in Colab ##########\n",
        "from google.colab import drive\n",
        "drive.mount('/content/drive')\n",
        "########## ONLY in Colab ##########"
      ],
      "metadata": {
        "id": "M3XviRdcVnwx"
      },
      "execution_count": null,
      "outputs": []
    },
    {
      "cell_type": "code",
      "execution_count": null,
      "metadata": {
        "id": "UGorHKN581Uu"
      },
      "outputs": [],
      "source": [
        "# Read and Load Data to Spark\n"
      ]
    },
    {
      "cell_type": "code",
      "execution_count": null,
      "metadata": {
        "id": "6O_dV30S81Uu"
      },
      "outputs": [],
      "source": [
        "# Repartition and Cache Data:\n"
      ]
    },
    {
      "cell_type": "markdown",
      "metadata": {
        "id": "zl7nmy6S81Uw"
      },
      "source": [
        "## Question 1: Count the number of records and get twenty records randomly.\n"
      ]
    },
    {
      "cell_type": "code",
      "execution_count": null,
      "metadata": {
        "id": "HG1ypizS81Ux"
      },
      "outputs": [],
      "source": [
        ""
      ]
    },
    {
      "cell_type": "markdown",
      "source": [
        "# **GHTorrent data format**\n",
        "Every line of this log file includes:\n",
        "1.   Logging level, one of `DEBUG`, `INFO`, `WARN`, `ERROR`\n",
        "2.   A timestamp\n",
        "3.   The downloader id\n",
        "4.   The logging stage including at least one of the following names:\n",
        "    *   `event_processing`\n",
        "    *   `ght_data_retrieval`\n",
        "    *   `api_client`\n",
        "    *   `retriever`\n",
        "    *   `ghtorrent`"
      ],
      "metadata": {
        "id": "ogaXjJV8tFYE"
      }
    },
    {
      "cell_type": "markdown",
      "source": [
        "## Question 2: Get the number of lines with both `Transaction` or `Repo` information."
      ],
      "metadata": {
        "id": "jqfD3Thrwsfx"
      }
    },
    {
      "cell_type": "code",
      "source": [
        ""
      ],
      "metadata": {
        "id": "BdoEimMywty5"
      },
      "execution_count": null,
      "outputs": []
    },
    {
      "cell_type": "markdown",
      "source": [
        "## Question 3: Get the number of lines including `web link` for `WARN` logging levels."
      ],
      "metadata": {
        "id": "PuYhTunZ5Mlj"
      }
    },
    {
      "cell_type": "code",
      "source": [
        ""
      ],
      "metadata": {
        "id": "isKnxJ-cXTAo"
      },
      "execution_count": null,
      "outputs": []
    },
    {
      "cell_type": "markdown",
      "source": [
        "## Question 4: What is the most active `downloader id` for `Failed` connections?"
      ],
      "metadata": {
        "id": "lhT_ZLTfw2eb"
      }
    },
    {
      "cell_type": "code",
      "source": [
        ""
      ],
      "metadata": {
        "id": "zTBWuWusnJ1t"
      },
      "execution_count": null,
      "outputs": []
    },
    {
      "cell_type": "markdown",
      "source": [
        "## Question 5: What is the most active `repository`?"
      ],
      "metadata": {
        "id": "1x_oXyUrQ_tp"
      }
    },
    {
      "cell_type": "code",
      "source": [
        ""
      ],
      "metadata": {
        "id": "pgn6mzyJRADq"
      },
      "execution_count": null,
      "outputs": []
    },
    {
      "cell_type": "markdown",
      "source": [
        "## [challenge] Question 6: Get the number of `Failed HTTP`requests per `hour`."
      ],
      "metadata": {
        "id": "_RiHWyZRwxKK"
      }
    },
    {
      "cell_type": "code",
      "source": [
        ""
      ],
      "metadata": {
        "id": "j52YTfwker8k"
      },
      "execution_count": null,
      "outputs": []
    }
  ],
  "metadata": {
    "kernelspec": {
      "display_name": "Python 3",
      "language": "python",
      "name": "python3"
    },
    "language_info": {
      "codemirror_mode": {
        "name": "ipython",
        "version": 3
      },
      "file_extension": ".py",
      "mimetype": "text/x-python",
      "name": "python",
      "nbconvert_exporter": "python",
      "pygments_lexer": "ipython3",
      "version": "3.8.3"
    },
    "colab": {
      "name": "GHTorrent_Analytics_(RDD).ipynb",
      "provenance": [],
      "collapsed_sections": []
    }
  },
  "nbformat": 4,
  "nbformat_minor": 0
}
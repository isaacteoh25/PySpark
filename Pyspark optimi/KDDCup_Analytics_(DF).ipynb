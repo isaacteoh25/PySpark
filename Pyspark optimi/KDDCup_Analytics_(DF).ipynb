{
 "cells": [
  {
   "cell_type": "markdown",
   "metadata": {
    "id": "cLSkeQia0M9X"
   },
   "source": [
    "# **KDDCup Data Analytics with PySpark DF: A structured case study**\n",
    "\n",
    "**`Udemy Course: Hands-on Big Data Practices with PySpark & Spark Tuning`**\n",
    "\n",
    "**`Author: Amin Karami (PhD, FHEA)`**\n",
    "\n",
    "##### data source: http://kdd.ics.uci.edu/databases/kddcup99/kddcup99.html"
   ]
  },
  {
   "cell_type": "code",
   "execution_count": null,
   "metadata": {
    "id": "DyGtjbRA0M9k"
   },
   "outputs": [],
   "source": [
    "########## ONLY in Colab ##########\n",
    "!pip3 install pyspark\n",
    "########## ONLY in Colab ##########"
   ]
  },
  {
   "cell_type": "code",
   "execution_count": 1,
   "metadata": {
    "id": "9I9MBYnB0M9n"
   },
   "outputs": [],
   "source": [
    "########## ONLY in Ubuntu Machine ##########\n",
    "# Load Spark engine\n",
    "!pip3 install -q findspark\n",
    "import findspark\n",
    "findspark.init()\n",
    "########## ONLY in Ubuntu Machine ##########"
   ]
  },
  {
   "cell_type": "code",
   "execution_count": 2,
   "metadata": {
    "id": "RoWdIaas0M9p"
   },
   "outputs": [
    {
     "data": {
      "text/html": [
       "\n",
       "            <div>\n",
       "                <p><b>SparkSession - in-memory</b></p>\n",
       "                \n",
       "        <div>\n",
       "            <p><b>SparkContext</b></p>\n",
       "\n",
       "            <p><a href=\"http://192.168.229.132:4040\">Spark UI</a></p>\n",
       "\n",
       "            <dl>\n",
       "              <dt>Version</dt>\n",
       "                <dd><code>v3.2.1</code></dd>\n",
       "              <dt>Master</dt>\n",
       "                <dd><code>local[*]</code></dd>\n",
       "              <dt>AppName</dt>\n",
       "                <dd><code>pyspark-shell</code></dd>\n",
       "            </dl>\n",
       "        </div>\n",
       "        \n",
       "            </div>\n",
       "        "
      ],
      "text/plain": [
       "<pyspark.sql.session.SparkSession at 0x7fd5e01699d0>"
      ]
     },
     "execution_count": 2,
     "metadata": {},
     "output_type": "execute_result"
    }
   ],
   "source": [
    "# import SparkSession\n",
    "\n",
    "from pyspark.sql import SparkSession\n",
    "spark = SparkSession.builder.master(\"local[*]\").getOrCreate()\n",
    "\n",
    "spark"
   ]
  },
  {
   "cell_type": "code",
   "execution_count": 3,
   "metadata": {
    "id": "Ybgw2UK00M9t"
   },
   "outputs": [
    {
     "name": "stdout",
     "output_type": "stream",
     "text": [
      "root\n",
      " |-- value: string (nullable = true)\n",
      "\n"
     ]
    }
   ],
   "source": [
    "# Read and Load Data to Spark\n",
    "# Data source: http://kdd.ics.uci.edu/databases/kddcup99/kddcup99.html\n",
    "\n",
    "df = spark.read.text(\"kddcup.data.gz\")\n",
    "df.printSchema()"
   ]
  },
  {
   "cell_type": "code",
   "execution_count": 4,
   "metadata": {
    "id": "rfYt71m61lAY"
   },
   "outputs": [
    {
     "name": "stdout",
     "output_type": "stream",
     "text": [
      "+--------------------+\n",
      "|               value|\n",
      "+--------------------+\n",
      "|0,tcp,http,SF,215...|\n",
      "|0,tcp,http,SF,162...|\n",
      "|0,tcp,http,SF,236...|\n",
      "|0,tcp,http,SF,233...|\n",
      "|0,tcp,http,SF,239...|\n",
      "|0,tcp,http,SF,238...|\n",
      "|0,tcp,http,SF,235...|\n",
      "|0,tcp,http,SF,234...|\n",
      "|0,tcp,http,SF,239...|\n",
      "|0,tcp,http,SF,181...|\n",
      "|0,tcp,http,SF,184...|\n",
      "|0,tcp,http,SF,185...|\n",
      "|0,tcp,http,SF,239...|\n",
      "|0,tcp,http,SF,181...|\n",
      "|0,tcp,http,SF,236...|\n",
      "|0,tcp,http,SF,233...|\n",
      "|0,tcp,http,SF,238...|\n",
      "|0,tcp,http,SF,235...|\n",
      "|0,tcp,http,SF,234...|\n",
      "|0,tcp,http,SF,239...|\n",
      "+--------------------+\n",
      "only showing top 20 rows\n",
      "\n"
     ]
    }
   ],
   "source": [
    "# Print data\n",
    "df.show()"
   ]
  },
  {
   "cell_type": "code",
   "execution_count": 5,
   "metadata": {
    "colab": {
     "base_uri": "https://localhost:8080/"
    },
    "id": "-uaphlmK2CY1",
    "outputId": "c27f01cf-4c4b-4303-fb21-58e9e15a0e85"
   },
   "outputs": [
    {
     "name": "stdout",
     "output_type": "stream",
     "text": [
      "+--------+-------+----+---------+---------+------+-----------------+----------+-----------+-------+\n",
      "|Protocol|Service|flag|src_bytes|dst_bytes|urgent|num_failed_logins|root_shell|guest_login|  label|\n",
      "+--------+-------+----+---------+---------+------+-----------------+----------+-----------+-------+\n",
      "|     tcp|   http|  SF|      215|    45076|     0|                0|         0|          0|normal.|\n",
      "|     tcp|   http|  SF|      162|     4528|     0|                0|         0|          0|normal.|\n",
      "|     tcp|   http|  SF|      236|     1228|     0|                0|         0|          0|normal.|\n",
      "|     tcp|   http|  SF|      233|     2032|     0|                0|         0|          0|normal.|\n",
      "|     tcp|   http|  SF|      239|      486|     0|                0|         0|          0|normal.|\n",
      "|     tcp|   http|  SF|      238|     1282|     0|                0|         0|          0|normal.|\n",
      "|     tcp|   http|  SF|      235|     1337|     0|                0|         0|          0|normal.|\n",
      "|     tcp|   http|  SF|      234|     1364|     0|                0|         0|          0|normal.|\n",
      "|     tcp|   http|  SF|      239|     1295|     0|                0|         0|          0|normal.|\n",
      "|     tcp|   http|  SF|      181|     5450|     0|                0|         0|          0|normal.|\n",
      "|     tcp|   http|  SF|      184|      124|     0|                0|         0|          0|normal.|\n",
      "|     tcp|   http|  SF|      185|     9020|     0|                0|         0|          0|normal.|\n",
      "|     tcp|   http|  SF|      239|     1295|     0|                0|         0|          0|normal.|\n",
      "|     tcp|   http|  SF|      181|     5450|     0|                0|         0|          0|normal.|\n",
      "|     tcp|   http|  SF|      236|     1228|     0|                0|         0|          0|normal.|\n",
      "|     tcp|   http|  SF|      233|     2032|     0|                0|         0|          0|normal.|\n",
      "|     tcp|   http|  SF|      238|     1282|     0|                0|         0|          0|normal.|\n",
      "|     tcp|   http|  SF|      235|     1337|     0|                0|         0|          0|normal.|\n",
      "|     tcp|   http|  SF|      234|     1364|     0|                0|         0|          0|normal.|\n",
      "|     tcp|   http|  SF|      239|      486|     0|                0|         0|          0|normal.|\n",
      "+--------+-------+----+---------+---------+------+-----------------+----------+-----------+-------+\n",
      "only showing top 20 rows\n",
      "\n"
     ]
    }
   ],
   "source": [
    "# Split data (if needed)\n",
    "\n",
    "from pyspark.sql.functions import split\n",
    "\n",
    "split_col = split(df['value'], ',')\n",
    "df = df.withColumn('Protocol', split_col.getItem(1)) \\\n",
    "       .withColumn('Service', split_col.getItem(2)) \\\n",
    "       .withColumn('flag', split_col.getItem(3)) \\\n",
    "       .withColumn('src_bytes', split_col.getItem(4)) \\\n",
    "       .withColumn('dst_bytes', split_col.getItem(5)) \\\n",
    "       .withColumn('urgent', split_col.getItem(8)) \\\n",
    "       .withColumn('num_failed_logins', split_col.getItem(10)) \\\n",
    "       .withColumn('root_shell', split_col.getItem(13)) \\\n",
    "       .withColumn('guest_login', split_col.getItem(21)) \\\n",
    "       .withColumn('label', split_col.getItem(41)) \\\n",
    "       .drop('value')\n",
    "\n",
    "df.show()"
   ]
  },
  {
   "cell_type": "code",
   "execution_count": 6,
   "metadata": {
    "colab": {
     "base_uri": "https://localhost:8080/"
    },
    "id": "GBZhKUhW0M9u",
    "outputId": "6e422cc2-3aeb-48db-ff56-c2a5913cd131"
   },
   "outputs": [
    {
     "name": "stdout",
     "output_type": "stream",
     "text": [
      "10\n"
     ]
    }
   ],
   "source": [
    "# Increase the number of partitions (if needed) and Build a Temp table\n",
    "\n",
    "df = df.repartition(10)\n",
    "print(df.rdd.getNumPartitions())\n",
    "\n",
    "df.createOrReplaceTempView(\"df_KDDCup\")"
   ]
  },
  {
   "cell_type": "markdown",
   "metadata": {
    "id": "sntXiEB40M93"
   },
   "source": [
    "## Question 1: Count the number of connections for each label"
   ]
  },
  {
   "cell_type": "code",
   "execution_count": 10,
   "metadata": {},
   "outputs": [],
   "source": [
    "spark.conf.set('spark.sql.adaptive.enabled', True)\n",
    "spark.conf.set('spark.sql.adaptive.coalescePartitions.enabled', True)"
   ]
  },
  {
   "cell_type": "code",
   "execution_count": 11,
   "metadata": {},
   "outputs": [
    {
     "data": {
      "text/plain": [
       "5"
      ]
     },
     "execution_count": 11,
     "metadata": {},
     "output_type": "execute_result"
    }
   ],
   "source": [
    "df1 = df.groupBy('label').count()\n",
    "df1.rdd.getNumPartitions()"
   ]
  },
  {
   "cell_type": "code",
   "execution_count": 12,
   "metadata": {},
   "outputs": [
    {
     "data": {
      "text/plain": [
       "5"
      ]
     },
     "execution_count": 12,
     "metadata": {},
     "output_type": "execute_result"
    }
   ],
   "source": [
    "df2 = df.groupBy('label').count().orderBy('count', ascending= False)\n",
    "df2.rdd.getNumPartitions()"
   ]
  },
  {
   "cell_type": "markdown",
   "metadata": {
    "id": "A_H0qa3ODouT"
   },
   "source": [
    "## Question 2:  Get the list of `Protocols`that are `normal` and `vulnerable to attacks`, where there is NOT `guest login` to the destination addresses.\n"
   ]
  },
  {
   "cell_type": "code",
   "execution_count": 13,
   "metadata": {
    "colab": {
     "base_uri": "https://localhost:8080/"
    },
    "id": "JP30RhzWDpWR",
    "outputId": "ec33ce30-906f-4354-fa2a-7d4e7c381ca9"
   },
   "outputs": [
    {
     "data": {
      "text/plain": [
       "4"
      ]
     },
     "execution_count": 13,
     "metadata": {},
     "output_type": "execute_result"
    }
   ],
   "source": [
    "sql_query = \"\"\" SELECT Protocol,\n",
    "                CASE label\n",
    "                  WHEN 'normal.' THEN 'no attack'\n",
    "                  ELSE 'attack'\n",
    "                END AS State,\n",
    "                COUNT(*) as freq\n",
    "              FROM df_KDDCup\n",
    "              WHERE guest_login != 1\n",
    "              GROUP BY Protocol, State\n",
    "              ORDER BY Protocol DESC\n",
    "            \"\"\"\n",
    "\n",
    "df3 = spark.sql(sql_query)\n",
    "df3.rdd.getNumPartitions()"
   ]
  },
  {
   "cell_type": "markdown",
   "metadata": {
    "id": "iE-B9k2JFoBX"
   },
   "source": [
    "## Question 3: Apply Some Descriptive Statistics on Numerical Data"
   ]
  },
  {
   "cell_type": "code",
   "execution_count": null,
   "metadata": {
    "colab": {
     "base_uri": "https://localhost:8080/"
    },
    "id": "FQlYGA9aEYkn",
    "outputId": "86a93847-7929-44f3-f292-ee940a925f67"
   },
   "outputs": [],
   "source": [
    "# PySpark provides built-in standard Aggregate functions defines in DataFrame API\n",
    "from pyspark.sql.functions import *\n",
    "\n",
    "summary = df.select(mean(df.src_bytes).alias('AVG(src_byte)'),\n",
    "                    stddev(df.src_bytes).alias('STD(src_byte)'),\n",
    "                    min(df.src_bytes).alias('MIN(src_byte)'),\n",
    "                    max(df.src_bytes).alias('MAX(src_byte)'),\n",
    "                    last(df.src_bytes).alias('LAST(src_byte)'),\n",
    "                    skewness(df.src_bytes).alias('SKEW(src_byte)'),\n",
    "                  )\n",
    "summary.show()"
   ]
  },
  {
   "cell_type": "code",
   "execution_count": null,
   "metadata": {
    "colab": {
     "base_uri": "https://localhost:8080/"
    },
    "id": "fZIj0Ok-Cyw2",
    "outputId": "e61ae24c-7863-44c7-fdb3-75512b6ebf5f"
   },
   "outputs": [],
   "source": [
    "groups = df.groupBy(\"Protocol\")\n",
    "groups.agg({'src_bytes':'mean', 'dst_bytes':'stddev'}).show()"
   ]
  },
  {
   "cell_type": "markdown",
   "metadata": {
    "id": "ktk6Q722Ihho"
   },
   "source": [
    "## Question 4: A descriptive stats based on `Protocols` and `Labels`\n"
   ]
  },
  {
   "cell_type": "code",
   "execution_count": null,
   "metadata": {
    "colab": {
     "base_uri": "https://localhost:8080/"
    },
    "id": "Vh8S4ZDMJuQs",
    "outputId": "97bc692a-f738-4f72-fd6f-f7d0f06e73c4"
   },
   "outputs": [],
   "source": [
    "sql_query = \"\"\"\n",
    "                           SELECT protocol,\n",
    "                             CASE label\n",
    "                               WHEN 'normal.' THEN 'no attack'\n",
    "                               ELSE 'attack'\n",
    "                             END AS state,\n",
    "                             COUNT(*) as total_freq,\n",
    "                            ROUND(AVG(src_bytes), 2) as mean_src_bytes,\n",
    "                            ROUND(AVG(dst_bytes), 2) as mean_dst_bytes,\n",
    "                            SUM(urgent) as sum_urgent,\n",
    "                            SUM(num_failed_logins) as sum_failed_logins,\n",
    "                            SUM(root_shell) as sum_root_shell,\n",
    "                            SUM(guest_login) as sum_guest_login\n",
    "                           FROM df_KDDCup\n",
    "                           GROUP BY protocol, state\n",
    "                           ORDER BY 3 DESC\n",
    "                           \"\"\"\n",
    "spark.sql(sql_query).show()"
   ]
  },
  {
   "cell_type": "markdown",
   "metadata": {
    "id": "SKYjJFVDIp2_"
   },
   "source": [
    "## Question 5: Get the frquency of `services` for the original `UDP and ICMP` based `attacks`\n",
    "(hint 1: original attacks: `[dos, u2r, r2l, and probe]`)\n",
    "\n",
    "(hint 2: returns the `services` and `protocols` center justified)"
   ]
  },
  {
   "cell_type": "code",
   "execution_count": null,
   "metadata": {
    "colab": {
     "base_uri": "https://localhost:8080/"
    },
    "id": "eqr9zv5iIqLe",
    "outputId": "9f369d75-4daf-471b-d53c-17faf3f198cc"
   },
   "outputs": [],
   "source": [
    "from pyspark.sql.types import StringType\n",
    "\n",
    "def Attack_Category(item):\n",
    "  if item.replace(\".\", \"\") in ['back', 'land', 'neptune', 'pod', 'smurf', 'teardrop']:\n",
    "    return \"DoS\"\n",
    "  elif item.replace(\".\", \"\") in ['buffer_overflow', 'loadmodule', 'perl', 'rootkit']:\n",
    "    return \"U2R\"\n",
    "  elif item.replace(\".\", \"\") in ['ftp_write', 'guess_passwd', 'multihop', 'phf', 'spy', 'warezclient', 'warezmaster']:\n",
    "    return \"R2L\"\n",
    "  else: return \"Probe\" \n",
    "\n",
    "def Center_Justify(item):\n",
    "  return item.center(10)\n",
    "\n",
    "\n",
    "spark.udf.register(\"OrginalAttacks\", Attack_Category, StringType())\n",
    "spark.udf.register(\"TextJustify\", Center_Justify, StringType())\n",
    "\n",
    "sql_query = \"\"\"\n",
    "                SELECT \n",
    "                  TextJustify(service) as service,\n",
    "                  TextJustify(protocol) as protocol,\n",
    "                  OrginalAttacks(label) as new_label,\n",
    "                  COUNT(*) as freq\n",
    "                FROM df_KDDCup\n",
    "                WHERE (protocol = 'udp' OR protocol = 'icmp') AND label != 'normal.'\n",
    "                GROUP BY service, new_label, protocol\n",
    "                ORDER BY freq DESC\n",
    "          \"\"\"\n",
    "\n",
    "spark.sql(sql_query).show()"
   ]
  }
 ],
 "metadata": {
  "colab": {
   "collapsed_sections": [],
   "name": "KDDCup_Analysis_(DF)_teacher_version.ipynb",
   "provenance": []
  },
  "kernelspec": {
   "display_name": "Python 3",
   "language": "python",
   "name": "python3"
  },
  "language_info": {
   "codemirror_mode": {
    "name": "ipython",
    "version": 3
   },
   "file_extension": ".py",
   "mimetype": "text/x-python",
   "name": "python",
   "nbconvert_exporter": "python",
   "pygments_lexer": "ipython3",
   "version": "3.8.3"
  }
 },
 "nbformat": 4,
 "nbformat_minor": 1
}

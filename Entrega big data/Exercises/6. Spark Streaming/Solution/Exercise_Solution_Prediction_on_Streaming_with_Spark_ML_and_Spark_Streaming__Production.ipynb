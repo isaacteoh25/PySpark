{
  "cells": [
    {
      "cell_type": "markdown",
      "id": "3a86f8df",
      "metadata": {
        "id": "3a86f8df"
      },
      "source": [
        "# Streaming Prediction with Spark ML and Spark Streaming"
      ]
    },
    {
      "cell_type": "markdown",
      "id": "7d06b6c8",
      "metadata": {
        "id": "7d06b6c8"
      },
      "source": [
        "In this notebook we are going to train a classification model to predict a patient's probability of suffering a heart attack."
      ]
    },
    {
      "cell_type": "code",
      "execution_count": null,
      "id": "6318a507",
      "metadata": {
        "id": "6318a507"
      },
      "outputs": [],
      "source": [
        "import findspark\n",
        "findspark.init()"
      ]
    },
    {
      "cell_type": "code",
      "execution_count": null,
      "id": "1f81f759",
      "metadata": {
        "id": "1f81f759"
      },
      "outputs": [],
      "source": [
        "from pyspark.ml.feature import OneHotEncoder\n",
        "from pyspark.ml.feature import MinMaxScaler\n",
        "from pyspark.ml.feature import StringIndexer\n",
        "from pyspark.ml.feature import VectorAssembler\n",
        "from pyspark.ml.feature import OneHotEncoder\n",
        "from pyspark.ml.classification import LogisticRegression\n",
        "from pyspark.sql.types import *"
      ]
    },
    {
      "cell_type": "code",
      "execution_count": null,
      "id": "56cecab8",
      "metadata": {
        "id": "56cecab8"
      },
      "outputs": [],
      "source": [
        "from pyspark.sql import SparkSession\n",
        "\n",
        "spark = SparkSession.builder.appName('UCI Heart disease').getOrCreate()"
      ]
    },
    {
      "cell_type": "code",
      "execution_count": null,
      "id": "afe3c31c",
      "metadata": {
        "id": "afe3c31c",
        "outputId": "da581c3b-508b-4a20-ff64-b767cd876652"
      },
      "outputs": [
        {
          "name": "stdout",
          "output_type": "stream",
          "text": [
            "+---+---+---+--------+----+---+-------+-------+-----+-------+-----+---+----+------+\n",
            "|age|sex| cp|trestbps|chol|fbs|restecg|thalach|exang|oldpeak|slope| ca|thal|target|\n",
            "+---+---+---+--------+----+---+-------+-------+-----+-------+-----+---+----+------+\n",
            "| 63|  1|  3|     145| 233|  1|      0|    150|    0|    2.3|    0|  0|   1|     1|\n",
            "| 37|  1|  2|     130| 250|  0|      1|    187|    0|    3.5|    0|  0|   2|     1|\n",
            "| 41|  0|  1|     130| 204|  0|      0|    172|    0|    1.4|    2|  0|   2|     1|\n",
            "+---+---+---+--------+----+---+-------+-------+-----+-------+-----+---+----+------+\n",
            "only showing top 3 rows\n",
            "\n"
          ]
        }
      ],
      "source": [
        "heart = spark.read.csv('data/heart.csv', \n",
        "                       inferSchema = True, \n",
        "                       header = True)\n",
        "heart.show(3)"
      ]
    },
    {
      "cell_type": "code",
      "execution_count": null,
      "id": "e8216cc4",
      "metadata": {
        "id": "e8216cc4"
      },
      "outputs": [],
      "source": [
        "schema = StructType( \\\n",
        "                     [StructField(\"age\", LongType(),True), \\\n",
        "                      StructField(\"sex\", LongType(), True), \\\n",
        "                      StructField(\"cp\", LongType(), True), \\\n",
        "                      StructField('trestbps', LongType(), True), \\\n",
        "                      StructField(\"chol\", LongType(), True), \\\n",
        "                      StructField(\"fbs\", LongType(), True), \\\n",
        "                      StructField(\"restecg\", LongType(), True), \\\n",
        "                      StructField(\"thalach\", LongType(), True),\\\n",
        "                      StructField(\"exang\", LongType(), True), \\\n",
        "                      StructField(\"oldpeak\", DoubleType(), True), \\\n",
        "                      StructField(\"slope\", LongType(),True), \\\n",
        "                      StructField(\"ca\", LongType(), True), \\\n",
        "                      StructField(\"thal\", LongType(), True), \\\n",
        "                      StructField(\"target\", LongType(), True), \\\n",
        "                        ])"
      ]
    },
    {
      "cell_type": "code",
      "execution_count": null,
      "id": "28d8812f",
      "metadata": {
        "id": "28d8812f",
        "outputId": "4b77d5c6-1810-42fb-b6f8-80fa7509c2bb"
      },
      "outputs": [
        {
          "name": "stdout",
          "output_type": "stream",
          "text": [
            "root\n",
            " |-- age: integer (nullable = true)\n",
            " |-- sex: integer (nullable = true)\n",
            " |-- cp: integer (nullable = true)\n",
            " |-- trestbps: integer (nullable = true)\n",
            " |-- chol: integer (nullable = true)\n",
            " |-- fbs: integer (nullable = true)\n",
            " |-- restecg: integer (nullable = true)\n",
            " |-- thalach: integer (nullable = true)\n",
            " |-- exang: integer (nullable = true)\n",
            " |-- oldpeak: double (nullable = true)\n",
            " |-- slope: integer (nullable = true)\n",
            " |-- ca: integer (nullable = true)\n",
            " |-- thal: integer (nullable = true)\n",
            " |-- target: integer (nullable = true)\n",
            "\n"
          ]
        }
      ],
      "source": [
        "from pyspark.ml import Pipeline\n",
        "from pyspark.sql.types import StructType,StructField,LongType, StringType,DoubleType,TimestampType\n",
        "\n",
        "df = heart.withColumnRenamed(\"target\",\"label\")\n",
        "df.printSchema()"
      ]
    },
    {
      "cell_type": "code",
      "execution_count": null,
      "id": "1b2c3b4b",
      "metadata": {
        "id": "1b2c3b4b"
      },
      "outputs": [],
      "source": [
        "testDF, trainDF = df.randomSplit([0.3, 0.7])"
      ]
    },
    {
      "cell_type": "markdown",
      "id": "b1a8d0d8",
      "metadata": {
        "id": "b1a8d0d8"
      },
      "source": [
        "### Pipeline loading"
      ]
    },
    {
      "cell_type": "code",
      "execution_count": null,
      "id": "088afddf",
      "metadata": {
        "id": "088afddf"
      },
      "outputs": [],
      "source": [
        "from pyspark.ml import PipelineModel\n",
        "\n",
        "\n",
        "pModel = PipelineModel.load(\"\\pipelines\")"
      ]
    },
    {
      "cell_type": "code",
      "execution_count": null,
      "id": "6f7be455",
      "metadata": {
        "id": "6f7be455",
        "outputId": "edcc6c79-ac11-4019-e0d1-c2669cfe6c7d"
      },
      "outputs": [
        {
          "name": "stdout",
          "output_type": "stream",
          "text": [
            "+------+--------------------+----------+\n",
            "|target|         probability|prediction|\n",
            "+------+--------------------+----------+\n",
            "|     1|[0.02547572141032...|       1.0|\n",
            "|     1|[0.03186502726837...|       1.0|\n",
            "|     0|[0.91655787910351...|       0.0|\n",
            "|     0|[0.76284874224638...|       0.0|\n",
            "|     1|[0.02615684728437...|       1.0|\n",
            "|     1|[0.00285662444432...|       1.0|\n",
            "|     1|[0.03955333515046...|       1.0|\n",
            "|     1|[0.03960488368718...|       1.0|\n",
            "|     1|[0.03960488368718...|       1.0|\n",
            "|     1|[0.00119850446011...|       1.0|\n",
            "|     0|[0.70706060938886...|       0.0|\n",
            "|     0|[0.94157151280181...|       0.0|\n",
            "|     0|[0.30476847727903...|       1.0|\n",
            "|     1|[0.19848850346177...|       1.0|\n",
            "|     1|[0.04391393058917...|       1.0|\n",
            "|     0|[0.23590393417504...|       1.0|\n",
            "|     1|[0.04085986608171...|       1.0|\n",
            "|     1|[0.01597241898798...|       1.0|\n",
            "|     1|[0.11070342370298...|       1.0|\n",
            "|     0|[0.94326722147048...|       0.0|\n",
            "+------+--------------------+----------+\n",
            "only showing top 20 rows\n",
            "\n"
          ]
        }
      ],
      "source": [
        "# We transform the data.\n",
        "trainingPred = pModel.transform(trainDF)\n",
        "\n",
        "# # We select the actual label, probability and predictions\n",
        "trainingPred.select('target','probability','prediction').show()"
      ]
    },
    {
      "cell_type": "code",
      "execution_count": null,
      "id": "c2077daa",
      "metadata": {
        "scrolled": true,
        "id": "c2077daa"
      },
      "outputs": [],
      "source": [
        "testData = testDF.repartition(10)\n",
        "testData\n",
        "\n",
        "#Create a directory\n",
        "testData.write.format(\"CSV\").option(\"header\",False).save(\"/heart_streaming/\")"
      ]
    },
    {
      "cell_type": "markdown",
      "id": "984bbf3e",
      "metadata": {
        "id": "984bbf3e"
      },
      "source": [
        "## Creating Streaming Predictions"
      ]
    },
    {
      "cell_type": "code",
      "execution_count": null,
      "id": "7f8489bd",
      "metadata": {
        "id": "7f8489bd"
      },
      "outputs": [],
      "source": [
        "sourceStream = (\n",
        "    spark.readStream.schema(schema)\n",
        "    .option(\"maxFilesPerTrigger\", 1)\n",
        "    .csv(\"/heart_streaming\")\n",
        "    .withColumnRenamed(\"output\",\"label\")\n",
        ")"
      ]
    },
    {
      "cell_type": "code",
      "execution_count": null,
      "id": "55c9160b",
      "metadata": {
        "id": "55c9160b"
      },
      "outputs": [],
      "source": [
        "prediction1 = pModel.transform(sourceStream).select('label',\n",
        "                                                   'probability',\n",
        "                                                   'prediction')"
      ]
    },
    {
      "cell_type": "code",
      "execution_count": null,
      "id": "4c6113aa",
      "metadata": {
        "scrolled": true,
        "id": "4c6113aa",
        "outputId": "e1697b95-1486-42a4-e3ab-6c41d2219da2"
      },
      "outputs": [
        {
          "data": {
            "text/plain": [
              "DataFrame[label: bigint, probability: vector, prediction: double]"
            ]
          },
          "metadata": {},
          "output_type": "display_data"
        }
      ],
      "source": [
        "display(prediction1)"
      ]
    },
    {
      "cell_type": "markdown",
      "id": "d50112be",
      "metadata": {
        "id": "d50112be"
      },
      "source": [
        "#### Displaying the predictions in console"
      ]
    },
    {
      "cell_type": "code",
      "execution_count": null,
      "id": "836cdda8",
      "metadata": {
        "id": "836cdda8"
      },
      "outputs": [],
      "source": [
        "query1 = prediction1.writeStream.queryName(\"prediction1\") \\\n",
        "            .format(\"console\")\\\n",
        "            .trigger(once=True)\\\n",
        "            .start()\\\n",
        "            .awaitTermination()"
      ]
    },
    {
      "cell_type": "markdown",
      "id": "86d638e3",
      "metadata": {
        "id": "86d638e3"
      },
      "source": [
        "#### Keeping the dooms in Memory"
      ]
    },
    {
      "cell_type": "code",
      "execution_count": null,
      "id": "eb2672a1",
      "metadata": {
        "id": "eb2672a1"
      },
      "outputs": [],
      "source": [
        "query2 = (\n",
        "            prediction1.writeStream.queryName(\"prediction4\") \n",
        "            .format(\"memory\")\n",
        "            .outputMode(\"append\")\n",
        "            .start())"
      ]
    },
    {
      "cell_type": "code",
      "execution_count": null,
      "id": "34147a93",
      "metadata": {
        "id": "34147a93",
        "outputId": "9eed8c69-9776-440d-858a-069e45cb052a"
      },
      "outputs": [
        {
          "name": "stdout",
          "output_type": "stream",
          "text": [
            "+-----+--------------------+----------+\n",
            "|label|         probability|prediction|\n",
            "+-----+--------------------+----------+\n",
            "|    1|[0.23530048884955...|       1.0|\n",
            "|    1|[0.78298087714178...|       0.0|\n",
            "|    0|[0.25205521541893...|       1.0|\n",
            "|    1|[0.60683421041110...|       0.0|\n",
            "|    1|[0.36136135664308...|       1.0|\n",
            "|    1|[0.05312797284297...|       1.0|\n",
            "|    1|[0.00415141451628...|       1.0|\n",
            "|    1|[0.11690508521511...|       1.0|\n",
            "|    1|[0.00398241426990...|       1.0|\n",
            "|    0|[0.98820996845845...|       0.0|\n",
            "+-----+--------------------+----------+\n",
            "only showing top 10 rows\n",
            "\n",
            "+-----+--------------------+----------+\n",
            "|label|         probability|prediction|\n",
            "+-----+--------------------+----------+\n",
            "|    1|[0.23530048884955...|       1.0|\n",
            "|    1|[0.78298087714178...|       0.0|\n",
            "|    0|[0.25205521541893...|       1.0|\n",
            "|    1|[0.60683421041110...|       0.0|\n",
            "|    1|[0.36136135664308...|       1.0|\n",
            "|    1|[0.05312797284297...|       1.0|\n",
            "|    1|[0.00415141451628...|       1.0|\n",
            "|    1|[0.11690508521511...|       1.0|\n",
            "|    1|[0.00398241426990...|       1.0|\n",
            "|    0|[0.98820996845845...|       0.0|\n",
            "+-----+--------------------+----------+\n",
            "only showing top 10 rows\n",
            "\n"
          ]
        },
        {
          "data": {
            "text/plain": [
              "DataFrame[label: bigint, probability: vector, prediction: double]"
            ]
          },
          "execution_count": 38,
          "metadata": {},
          "output_type": "execute_result"
        }
      ],
      "source": [
        "for x in range(2):\n",
        "    df = spark.sql(\n",
        "        \"SELECT * FROM prediction4\")\n",
        "    df.show(10)\n",
        "df"
      ]
    },
    {
      "cell_type": "code",
      "execution_count": null,
      "id": "5de9cbcc",
      "metadata": {
        "id": "5de9cbcc"
      },
      "outputs": [],
      "source": [
        "spark.streams.active[0].isActive"
      ]
    },
    {
      "cell_type": "code",
      "execution_count": null,
      "id": "c10f0b26",
      "metadata": {
        "id": "c10f0b26"
      },
      "outputs": [],
      "source": [
        "spark.streams"
      ]
    },
    {
      "cell_type": "code",
      "execution_count": null,
      "id": "ffd46c3b",
      "metadata": {
        "id": "ffd46c3b",
        "outputId": "f1ed0e9f-8dec-480e-f619-9ac11ac37fd3"
      },
      "outputs": [
        {
          "data": {
            "text/plain": [
              "{'message': 'Processing new data',\n",
              " 'isDataAvailable': True,\n",
              " 'isTriggerActive': True}"
            ]
          },
          "execution_count": 37,
          "metadata": {},
          "output_type": "execute_result"
        }
      ],
      "source": [
        "query2.status"
      ]
    },
    {
      "cell_type": "code",
      "execution_count": null,
      "id": "3391605d",
      "metadata": {
        "id": "3391605d"
      },
      "outputs": [],
      "source": []
    }
  ],
  "metadata": {
    "kernelspec": {
      "display_name": "Python 3 (ipykernel)",
      "language": "python",
      "name": "python3"
    },
    "language_info": {
      "codemirror_mode": {
        "name": "ipython",
        "version": 3
      },
      "file_extension": ".py",
      "mimetype": "text/x-python",
      "name": "python",
      "nbconvert_exporter": "python",
      "pygments_lexer": "ipython3",
      "version": "3.8.12"
    },
    "colab": {
      "provenance": []
    }
  },
  "nbformat": 4,
  "nbformat_minor": 5
}
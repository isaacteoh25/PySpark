{
  "cells": [
    {
      "cell_type": "markdown",
      "id": "22bc4d93",
      "metadata": {
        "id": "22bc4d93"
      },
      "source": [
        "# RDD Practical Exercise"
      ]
    },
    {
      "cell_type": "code",
      "execution_count": null,
      "id": "c1a214d6",
      "metadata": {
        "id": "c1a214d6"
      },
      "outputs": [],
      "source": [
        "import findspark\n",
        "findspark.init()\n",
        "\n",
        "import pandas as pd\n",
        "import pyspark\n",
        "from pyspark.sql import SparkSession"
      ]
    },
    {
      "cell_type": "code",
      "execution_count": null,
      "id": "bd8b0d7c",
      "metadata": {
        "id": "bd8b0d7c"
      },
      "outputs": [],
      "source": [
        "spark = SparkSession.builder.getOrCreate()\n",
        "sc = spark.sparkContext"
      ]
    },
    {
      "cell_type": "code",
      "execution_count": null,
      "id": "1479e36b",
      "metadata": {
        "id": "1479e36b"
      },
      "outputs": [],
      "source": [
        "data= [1, 2, 3, 4, 5]\n",
        "myRDD= sc.parallelize(data)"
      ]
    },
    {
      "cell_type": "code",
      "execution_count": null,
      "id": "9bc25ae9",
      "metadata": {
        "id": "9bc25ae9"
      },
      "outputs": [],
      "source": [
        "newRDD= myRDD.map(lambda x: x*2)"
      ]
    },
    {
      "cell_type": "code",
      "execution_count": null,
      "id": "a047081a",
      "metadata": {
        "id": "a047081a"
      },
      "outputs": [],
      "source": [
        "data= [1, 2, 3, 4, 5, 6]\n",
        "\n",
        "myRDD= sc.parallelize(data)\n",
        "\n",
        "newRDD= myRDD.filter(lambda x: x%2 == 0)"
      ]
    },
    {
      "cell_type": "code",
      "execution_count": null,
      "id": "aeb368f0",
      "metadata": {
        "id": "aeb368f0"
      },
      "outputs": [],
      "source": [
        "## Show the unique elements of the RDD"
      ]
    },
    {
      "cell_type": "code",
      "execution_count": null,
      "id": "787c7986",
      "metadata": {
        "id": "787c7986"
      },
      "outputs": [],
      "source": [
        "from operator import add\n",
        "\n",
        "myRDD = sc.parallelize([('a', 1), ('a', 2), ('a', 3), ('b', 1)])\n",
        "\n",
        "## Get the sum of the values ​​grouped by the key"
      ]
    },
    {
      "cell_type": "code",
      "execution_count": null,
      "id": "5133d6f2",
      "metadata": {
        "id": "5133d6f2"
      },
      "outputs": [],
      "source": [
        "## Sort RDDs based on key"
      ]
    },
    {
      "cell_type": "code",
      "execution_count": null,
      "id": "bfe2d705",
      "metadata": {
        "id": "bfe2d705"
      },
      "outputs": [],
      "source": [
        "data= [1, 2, 3, 4, 5]\n",
        "\n",
        "myRDD= sc.parallelize(data)\n",
        "## Take the elements of the RDD to multiply them together and obtain a result"
      ]
    },
    {
      "cell_type": "code",
      "execution_count": null,
      "id": "b6139be0",
      "metadata": {
        "id": "b6139be0"
      },
      "outputs": [],
      "source": [
        "data= ['Python', 'Scala', 'Python', 'R', 'Python', 'Java', 'R' ]\n",
        "\n",
        "myRDD= sc.parallelize(data)\n",
        "\n",
        "## Count how many times each value appears"
      ]
    },
    {
      "cell_type": "code",
      "execution_count": null,
      "id": "633f7716",
      "metadata": {
        "id": "633f7716"
      },
      "outputs": [],
      "source": [
        "data= [('a', 1), ('b', 1), ('c', 1), ('a', 1)]\n",
        "myRDD = sc.parallelize(data)\n",
        "\n",
        "## Count how many times each of the keys appears"
      ]
    },
    {
      "cell_type": "code",
      "execution_count": null,
      "id": "f0cea10a",
      "metadata": {
        "id": "f0cea10a"
      },
      "outputs": [],
      "source": []
    }
  ],
  "metadata": {
    "kernelspec": {
      "display_name": "Python 3 (ipykernel)",
      "language": "python",
      "name": "python3"
    },
    "language_info": {
      "codemirror_mode": {
        "name": "ipython",
        "version": 3
      },
      "file_extension": ".py",
      "mimetype": "text/x-python",
      "name": "python",
      "nbconvert_exporter": "python",
      "pygments_lexer": "ipython3",
      "version": "3.8.12"
    },
    "colab": {
      "provenance": []
    }
  },
  "nbformat": 4,
  "nbformat_minor": 5
}
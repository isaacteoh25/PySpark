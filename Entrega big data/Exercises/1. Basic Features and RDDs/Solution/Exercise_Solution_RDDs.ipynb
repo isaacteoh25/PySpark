{
  "cells": [
    {
      "cell_type": "markdown",
      "id": "22bc4d93",
      "metadata": {
        "id": "22bc4d93"
      },
      "source": [
        "# Hands-on Exercise with RDDs"
      ]
    },
    {
      "cell_type": "code",
      "execution_count": null,
      "id": "c1a214d6",
      "metadata": {
        "id": "c1a214d6"
      },
      "outputs": [],
      "source": [
        "import findspark\n",
        "findspark.init()\n",
        "\n",
        "import pandas as pd\n",
        "import pyspark\n",
        "from pyspark.sql import SparkSession"
      ]
    },
    {
      "cell_type": "code",
      "execution_count": null,
      "id": "bd8b0d7c",
      "metadata": {
        "id": "bd8b0d7c"
      },
      "outputs": [],
      "source": [
        "spark = SparkSession.builder.getOrCreate()\n",
        "sc = spark.sparkContext"
      ]
    },
    {
      "cell_type": "code",
      "execution_count": null,
      "id": "1479e36b",
      "metadata": {
        "id": "1479e36b"
      },
      "outputs": [],
      "source": [
        "data= [1, 2, 3, 4, 5]\n",
        "myRDD= sc.parallelize(data)"
      ]
    },
    {
      "cell_type": "code",
      "execution_count": null,
      "id": "9bc25ae9",
      "metadata": {
        "id": "9bc25ae9"
      },
      "outputs": [],
      "source": [
        "newRDD= myRDD.map(lambda x: x*2)"
      ]
    },
    {
      "cell_type": "code",
      "execution_count": null,
      "id": "b4bf5026",
      "metadata": {
        "id": "b4bf5026"
      },
      "outputs": [],
      "source": [
        "mapRDD= myRDD.map(lambda x: range(1,x))"
      ]
    },
    {
      "cell_type": "code",
      "execution_count": null,
      "id": "a047081a",
      "metadata": {
        "id": "a047081a"
      },
      "outputs": [],
      "source": [
        "data= [1, 2, 3, 4, 5, 6]\n",
        "\n",
        "myRDD= sc.parallelize(data)\n",
        "newRDD= myRDD.filter(lambda x: x%2 == 0)"
      ]
    },
    {
      "cell_type": "code",
      "execution_count": null,
      "id": "aeb368f0",
      "metadata": {
        "id": "aeb368f0"
      },
      "outputs": [],
      "source": [
        "newRDD= myRDD.distinct()"
      ]
    },
    {
      "cell_type": "code",
      "execution_count": null,
      "id": "787c7986",
      "metadata": {
        "id": "787c7986"
      },
      "outputs": [],
      "source": [
        "from operator import add\n",
        "\n",
        "myRDD = sc.parallelize([('a', 1), ('a', 2), ('a', 3), ('b', 1)])\n",
        "newRDD= myRDD.reduceByKey(add)"
      ]
    },
    {
      "cell_type": "code",
      "execution_count": null,
      "id": "5133d6f2",
      "metadata": {
        "id": "5133d6f2",
        "outputId": "fd41f901-dd1c-4686-e613-505f53eeda56"
      },
      "outputs": [
        {
          "data": {
            "text/plain": [
              "[('a', 1), ('a', 2), ('a', 3), ('b', 1)]"
            ]
          },
          "execution_count": 16,
          "metadata": {},
          "output_type": "execute_result"
        }
      ],
      "source": [
        "newRDD= myRDD.sortByKey()\n",
        "newRDD.collect()"
      ]
    },
    {
      "cell_type": "code",
      "execution_count": null,
      "id": "bfe2d705",
      "metadata": {
        "id": "bfe2d705",
        "outputId": "ad32fadc-833e-4cd6-95e4-72d60f17ef74"
      },
      "outputs": [
        {
          "data": {
            "text/plain": [
              "120"
            ]
          },
          "execution_count": 17,
          "metadata": {},
          "output_type": "execute_result"
        }
      ],
      "source": [
        "data= [1, 2, 3, 4, 5]\n",
        "\n",
        "myRDD= sc.parallelize(data)\n",
        "myRDD.reduce( lambda x, y: x * y)"
      ]
    },
    {
      "cell_type": "code",
      "execution_count": null,
      "id": "b6139be0",
      "metadata": {
        "id": "b6139be0",
        "outputId": "c895de13-222c-48bf-afdd-fe93e13694c4"
      },
      "outputs": [
        {
          "data": {
            "text/plain": [
              "dict_items([('Python', 3), ('Scala', 1), ('R', 2), ('Java', 1)])"
            ]
          },
          "execution_count": 18,
          "metadata": {},
          "output_type": "execute_result"
        }
      ],
      "source": [
        "data= ['Python', 'Scala', 'Python', 'R', 'Python', 'Java', 'R' ]\n",
        "\n",
        "myRDD= sc.parallelize(data)\n",
        "\n",
        "myRDD.countByValue().items()"
      ]
    },
    {
      "cell_type": "code",
      "execution_count": null,
      "id": "633f7716",
      "metadata": {
        "id": "633f7716",
        "outputId": "d8c7e4d5-9e70-4fca-dfdb-550da7cfdd5b"
      },
      "outputs": [
        {
          "data": {
            "text/plain": [
              "dict_items([('a', 2), ('b', 1), ('c', 1)])"
            ]
          },
          "execution_count": 19,
          "metadata": {},
          "output_type": "execute_result"
        }
      ],
      "source": [
        "data= [('a', 1), ('b', 1), ('c', 1), ('a', 1)]\n",
        "myRDD = sc.parallelize(data)\n",
        "\n",
        "myRDD.countByKey().items()"
      ]
    },
    {
      "cell_type": "code",
      "execution_count": null,
      "id": "f0cea10a",
      "metadata": {
        "id": "f0cea10a"
      },
      "outputs": [],
      "source": []
    },
    {
      "cell_type": "code",
      "execution_count": null,
      "id": "27b6ffa8",
      "metadata": {
        "id": "27b6ffa8"
      },
      "outputs": [],
      "source": []
    }
  ],
  "metadata": {
    "kernelspec": {
      "display_name": "Python 3 (ipykernel)",
      "language": "python",
      "name": "python3"
    },
    "language_info": {
      "codemirror_mode": {
        "name": "ipython",
        "version": 3
      },
      "file_extension": ".py",
      "mimetype": "text/x-python",
      "name": "python",
      "nbconvert_exporter": "python",
      "pygments_lexer": "ipython3",
      "version": "3.8.12"
    },
    "colab": {
      "provenance": []
    }
  },
  "nbformat": 4,
  "nbformat_minor": 5
}
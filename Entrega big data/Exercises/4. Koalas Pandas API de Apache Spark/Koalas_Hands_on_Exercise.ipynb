{
  "cells": [
    {
      "cell_type": "markdown",
      "metadata": {
        "id": "-9P6GqDwSr1s"
      },
      "source": [
        "# Koalas Hands-on Exercise"
      ]
    },
    {
      "cell_type": "code",
      "execution_count": null,
      "metadata": {
        "id": "JQ676UsaSr15"
      },
      "outputs": [],
      "source": [
        "import findspark\n",
        "findspark.init()\n",
        "\n",
        "import pandas as pd\n",
        "import pyspark"
      ]
    },
    {
      "cell_type": "code",
      "execution_count": null,
      "metadata": {
        "id": "21i3A0k6Sr1-"
      },
      "outputs": [],
      "source": [
        "import numpy as np\n",
        "import pandas as pd\n",
        "import databricks.koalas as ks"
      ]
    },
    {
      "cell_type": "markdown",
      "metadata": {
        "id": "nK1DNcpDSr2A"
      },
      "source": [
        "### Basic functions"
      ]
    },
    {
      "cell_type": "code",
      "execution_count": null,
      "metadata": {
        "id": "pSVncBepSr2B"
      },
      "outputs": [],
      "source": [
        "pser = pd.Series([1, 3, 5, np.nan, 6, 8]) \n",
        "\n",
        "## Create a series of Koalas with [1, 3, 5, np.nan, 6, 8]\n",
        "\n",
        "kser = ks.Series(pser)\n",
        "\n",
        "## Convert pandas series (\"pser\") to Koalas dataframe with the name of \"kser\""
      ]
    },
    {
      "cell_type": "code",
      "execution_count": null,
      "metadata": {
        "id": "3BO6qAQzSr2D"
      },
      "outputs": [],
      "source": [
        "## Sort kser by index"
      ]
    },
    {
      "cell_type": "code",
      "execution_count": null,
      "metadata": {
        "id": "FdrD0Jp0Sr2F"
      },
      "outputs": [],
      "source": [
        "pdf = pd.DataFrame({'A': np.random.rand(5),\n",
        "                    'B': np.random.rand(5)})\n",
        "\n",
        "## Generate a Koalas Dataframe with the pandas \"pdf\" and call it \"kdf\""
      ]
    },
    {
      "cell_type": "markdown",
      "metadata": {
        "id": "57kiQZWjSr2H"
      },
      "source": [
        "### Data visualization"
      ]
    },
    {
      "cell_type": "code",
      "execution_count": null,
      "metadata": {
        "id": "deL5MQ0eSr2J"
      },
      "outputs": [],
      "source": [
        "## Obtain the main statics of \"kdf\""
      ]
    },
    {
      "cell_type": "code",
      "execution_count": null,
      "metadata": {
        "scrolled": true,
        "id": "14aMhRsESr2L"
      },
      "outputs": [],
      "source": [
        "## Sort \"kdf\" by column B"
      ]
    },
    {
      "cell_type": "code",
      "execution_count": null,
      "metadata": {
        "id": "fS7r44JsSr2M"
      },
      "outputs": [],
      "source": [
        "## Transpose the data of \"kdf\""
      ]
    },
    {
      "cell_type": "markdown",
      "metadata": {
        "id": "NBiweFa_Sr2O"
      },
      "source": [
        "### Selection"
      ]
    },
    {
      "cell_type": "code",
      "execution_count": null,
      "metadata": {
        "id": "7FOyaVP6Sr2P"
      },
      "outputs": [],
      "source": [
        "## Select variables A and B from \"Kdf\""
      ]
    },
    {
      "cell_type": "code",
      "execution_count": null,
      "metadata": {
        "scrolled": false,
        "id": "hEwgEfN6Sr2Q"
      },
      "outputs": [],
      "source": [
        "## Select rows 1 and 2 of \"kdf\""
      ]
    },
    {
      "cell_type": "code",
      "execution_count": null,
      "metadata": {
        "scrolled": false,
        "id": "dHdix7OqSr2R"
      },
      "outputs": [],
      "source": [
        "## Select rows 0, 1 and 2 of variable B"
      ]
    },
    {
      "cell_type": "markdown",
      "metadata": {
        "id": "hR29ns2OSr2S"
      },
      "source": [
        "### Applying Python functions to Koalas"
      ]
    },
    {
      "cell_type": "code",
      "execution_count": null,
      "metadata": {
        "id": "m58x8Y6XSr2T"
      },
      "outputs": [],
      "source": [
        "## Apply the python function of np.cumsum to \"kdf\""
      ]
    },
    {
      "cell_type": "code",
      "execution_count": null,
      "metadata": {
        "id": "54SB9fK6Sr2U"
      },
      "outputs": [],
      "source": [
        "## Square the values ​​of \"kdf\""
      ]
    },
    {
      "cell_type": "markdown",
      "metadata": {
        "id": "cic5ddUmSr2V"
      },
      "source": [
        "### Grouping data"
      ]
    },
    {
      "cell_type": "code",
      "execution_count": null,
      "metadata": {
        "id": "gICnulXkSr2W"
      },
      "outputs": [],
      "source": [
        "## Get the sum of values ​​by grouping by A and by B"
      ]
    },
    {
      "cell_type": "markdown",
      "metadata": {
        "id": "tsnGeX-ZSr2X"
      },
      "source": [
        "### Generating graphics"
      ]
    },
    {
      "cell_type": "code",
      "execution_count": null,
      "metadata": {
        "id": "bh5GePw_Sr2Y"
      },
      "outputs": [],
      "source": [
        "%matplotlib inline"
      ]
    },
    {
      "cell_type": "code",
      "execution_count": null,
      "metadata": {
        "id": "Uu-zCTliSr2Z"
      },
      "outputs": [],
      "source": [
        "speed = [0.1, 17.5, 40, 48, 52, 69, 88]\n",
        "lifespan = [2, 8, 70, 1.5, 25, 12, 28]\n",
        "index = ['snail', 'pig', 'elephant',\n",
        "         'rabbit', 'giraffe', 'coyote', 'horse']\n",
        "\n",
        "kdf = ks.DataFrame({'speed': speed,\n",
        "                   'lifespan': lifespan}, index=index)\n",
        "\n",
        "## Generate a bar plot with \"kdf\" and matplotlib"
      ]
    },
    {
      "cell_type": "code",
      "execution_count": null,
      "metadata": {
        "scrolled": true,
        "id": "xBgGBEqQSr2a"
      },
      "outputs": [],
      "source": [
        "kdf = ks.DataFrame({\n",
        "    'sales': [3, 2, 3, 9, 10, 6, 3],\n",
        "    'signups': [5, 5, 6, 12, 14, 13, 9],\n",
        "    'visits': [20, 42, 28, 62, 81, 50, 90],\n",
        "}, index=pd.date_range(start='2019/08/15', end='2020/03/09',\n",
        "                       freq='M'))\n",
        "\n",
        "## Generate an area plot with \"kdf\" and matplotlib"
      ]
    },
    {
      "cell_type": "markdown",
      "metadata": {
        "id": "TCMsEbkiSr2c"
      },
      "source": [
        "### Using SQL in Koalas"
      ]
    },
    {
      "cell_type": "code",
      "execution_count": null,
      "metadata": {
        "scrolled": false,
        "id": "VlmUGussSr2d"
      },
      "outputs": [],
      "source": [
        "kdf = ks.DataFrame({'year': [1990, 1997, 2003, 2009, 2014],\n",
        "                    'pig': [20, 18, 489, 675, 1776],\n",
        "                    'horse': [4, 25, 281, 600, 1900]})"
      ]
    },
    {
      "cell_type": "code",
      "execution_count": null,
      "metadata": {
        "id": "pcX71JgTSr2d"
      },
      "outputs": [],
      "source": [
        "## With an SQL query select the data where pig is greater than 100"
      ]
    },
    {
      "cell_type": "code",
      "execution_count": null,
      "metadata": {
        "id": "pqWqVAzOSr2e"
      },
      "outputs": [],
      "source": [
        "pdf = pd.DataFrame({'year': [1990, 1997, 2003, 2009, 2014],\n",
        "                    'sheep': [22, 50, 121, 445, 791],\n",
        "                    'chicken': [250, 326, 589, 1241, 2118]})"
      ]
    },
    {
      "cell_type": "code",
      "execution_count": null,
      "metadata": {
        "scrolled": true,
        "id": "R0eknFFMSr2f"
      },
      "outputs": [],
      "source": [
        "## Do an inner join between \"kdf\" and \"pdf\" in the variable of \"year\", then \n",
        "## select variables of pig and  chicken\n",
        "## sort data by pig and chicken\n"
      ]
    },
    {
      "cell_type": "markdown",
      "source": [],
      "metadata": {
        "id": "awgk1OEZs5Rz"
      }
    },
    {
      "cell_type": "markdown",
      "metadata": {
        "id": "pYz4kjsjSr2g"
      },
      "source": [
        "### Working with PySpark"
      ]
    },
    {
      "cell_type": "code",
      "execution_count": null,
      "metadata": {
        "scrolled": true,
        "id": "DD8bfLmPSr2g",
        "outputId": "cb8b6dc3-01d9-4860-c91e-2beb16b3dbd4"
      },
      "outputs": [
        {
          "data": {
            "text/plain": [
              "pyspark.sql.dataframe.DataFrame"
            ]
          },
          "execution_count": 114,
          "metadata": {},
          "output_type": "execute_result"
        }
      ],
      "source": [
        "kdf = ks.DataFrame({'A': [1, 2, 3, 4, 5], 'B': [10, 20, 30, 40, 50]})\n",
        "\n",
        "## Convert Koalas dataframe to Spark Dataframe\n",
        "type(sdf)"
      ]
    },
    {
      "cell_type": "code",
      "execution_count": null,
      "metadata": {
        "id": "4PYZXvZXSr2j"
      },
      "outputs": [],
      "source": [
        "## show the data"
      ]
    },
    {
      "cell_type": "code",
      "execution_count": null,
      "metadata": {
        "id": "JR9kBg8SSr2k"
      },
      "outputs": [],
      "source": []
    }
  ],
  "metadata": {
    "kernelspec": {
      "display_name": "Python 3 (ipykernel)",
      "language": "python",
      "name": "python3"
    },
    "language_info": {
      "codemirror_mode": {
        "name": "ipython",
        "version": 3
      },
      "file_extension": ".py",
      "mimetype": "text/x-python",
      "name": "python",
      "nbconvert_exporter": "python",
      "pygments_lexer": "ipython3",
      "version": "3.8.12"
    },
    "colab": {
      "provenance": []
    }
  },
  "nbformat": 4,
  "nbformat_minor": 0
}